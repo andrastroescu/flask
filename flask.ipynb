{
 "cells": [
  {
   "cell_type": "code",
   "execution_count": null,
   "id": "2bdf82ff-e11e-423c-87ec-ff5880b597c3",
   "metadata": {},
   "outputs": [],
   "source": [
    "# Import necessary libraries\n",
    "from flask import Flask, request, jsonify\n",
    "import tensorflow as tf\n",
    "import cv2\n",
    "import os\n",
    "import mysql.connector\n",
    "\n",
    "# Initialize Flask application\n",
    "app = Flask(__name__)\n",
    "\n",
    "# Load the trained model\n",
    "model = tf.keras.models.load_model('./py_model_classification.ipynb')\n",
    "\n",
    "# Define route for image classification\n",
    "@app.route('/classify', methods=['POST'])\n",
    "def classify_image():\n",
    "    # Get image file from request\n",
    "    file = request.files['image']\n",
    "    \n",
    "    # Save image temporarily\n",
    "    image_path = 'temp.jpg'\n",
    "    file.save(image_path)\n",
    "    \n",
    "    # Preprocess image\n",
    "    img = cv2.imread(image_path)\n",
    "    resized_img = cv2.resize(img, (256, 256))\n",
    "    resized_img = resized_img / 255.0  # Normalize\n",
    "    \n",
    "    # Make prediction\n",
    "    prediction = model.predict(np.expand_dims(resized_img, axis=0))\n",
    "    \n",
    "    # Process prediction and send response\n",
    "    class_names = ['Class1', 'Class2', 'NEWSPAPER', 'unknown']  # Define your class names\n",
    "    predicted_class_index = np.argmax(prediction)\n",
    "    predicted_class = class_names[predicted_class_index]\n",
    "    \n",
    "    # Delete temporary image file\n",
    "    os.remove(image_path)\n",
    "    \n",
    "    return jsonify({'prediction': predicted_class})\n",
    "\n",
    "# Run Flask application\n",
    "if __name__ == '__main__':\n",
    "    app.run(debug=True)\n"
   ]
  }
 ],
 "metadata": {
  "kernelspec": {
   "display_name": "imageclassification",
   "language": "python",
   "name": "imageclassification"
  },
  "language_info": {
   "codemirror_mode": {
    "name": "ipython",
    "version": 3
   },
   "file_extension": ".py",
   "mimetype": "text/x-python",
   "name": "python",
   "nbconvert_exporter": "python",
   "pygments_lexer": "ipython3",
   "version": "3.11.5"
  }
 },
 "nbformat": 4,
 "nbformat_minor": 5
}
